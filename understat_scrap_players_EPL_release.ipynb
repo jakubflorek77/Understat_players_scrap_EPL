{
 "cells": [
  {
   "cell_type": "code",
   "execution_count": 10,
   "id": "8e94167c",
   "metadata": {},
   "outputs": [],
   "source": [
    "from bs4 import BeautifulSoup\n",
    "import requests\n",
    "import json\n",
    "import pandas as pd"
   ]
  },
  {
   "cell_type": "code",
   "execution_count": 11,
   "id": "fda06896",
   "metadata": {},
   "outputs": [],
   "source": [
    "def get_players(league,year):\n",
    "    url = 'https://understat.com/league/' + league + '/' + year #EPL/2023'\n",
    "    res = requests.get(url)\n",
    "    soup = BeautifulSoup(res.content,'lxml')\n",
    "    scripts = soup.find_all('script')\n",
    "    strings = scripts[3].string\n",
    "    ind_start = strings.index(\"('\")+2\n",
    "    ind_end = strings.index(\"')\")\n",
    "    json_data = strings[ind_start:ind_end]\n",
    "    json_data = json_data.encode('utf8').decode('unicode_escape')\n",
    "    data = json.loads(json_data)\n",
    "    return data"
   ]
  },
  {
   "cell_type": "code",
   "execution_count": 12,
   "id": "a6a6dce8",
   "metadata": {},
   "outputs": [],
   "source": [
    "def scrap(data):\n",
    "    players = []\n",
    "    xg = []\n",
    "    xa = []\n",
    "    npxg = []\n",
    "    npxga = []\n",
    "    position = []\n",
    "    goals = []\n",
    "    npgoals = []\n",
    "    assists = []\n",
    "    shots = []\n",
    "    npg = []\n",
    "    time = []\n",
    "    \n",
    "    for index in data:\n",
    "        players.append(index['player_name'])\n",
    "        xg.append(index['xG'])\n",
    "        xa.append(index['xA'])\n",
    "        shots.append(index['shots'])\n",
    "        npxg.append(index['npxG'])\n",
    "        npg.append(index['npg'])\n",
    "        position.append(index['position'])\n",
    "        goals.append(index['goals'])\n",
    "        assists.append(index['assists'])\n",
    "        time.append(index['time'])\n",
    "        \n",
    "    col_name = ['player_name','goals','assists','shots','npg','xg','npxg','xa','position','time']\n",
    "    df = pd.DataFrame([players,goals,assists,shots,npg,xg,npxg,xa,position,time],index=col_name)\n",
    "    df = df.T\n",
    "    return df"
   ]
  },
  {
   "cell_type": "code",
   "execution_count": 13,
   "id": "1289587d",
   "metadata": {},
   "outputs": [],
   "source": [
    "def format_all(df2):\n",
    "    df2.goals = df2.goals.astype(float)\n",
    "    df2.assists = df2.assists.astype(float)\n",
    "    df2.shots = df2.shots.astype(float)\n",
    "    df2.npg = df2.npg.astype(float)\n",
    "    df2.xg = df2.xg.astype(float)\n",
    "    df2.npxg = df2.npxg.astype(float)\n",
    "    df2.xa = df2.xa.astype(float)\n",
    "    df2.time = df2.time.astype(float)\n",
    "    \n",
    "    df2.xg = df2.xg.apply(lambda x: round(x, 2))\n",
    "    df2.npxg = df2.npxg.apply(lambda x: round(x, 2))\n",
    "    df2.xa = df2.xa.apply(lambda x: round(x, 2))\n",
    "    \n",
    "    df2 = df2[df2['time'] > 500]\n",
    "    df2 = df2[(df2['goals'] > 1) & (df2['assists'] > 0)].sort_values(by = \"goals\", ascending = False)\n",
    "    return df2"
   ]
  },
  {
   "cell_type": "code",
   "execution_count": 14,
   "id": "066c6a68",
   "metadata": {},
   "outputs": [],
   "source": [
    "def main():\n",
    "    data = get_players('EPL','2023')\n",
    "    df = scrap(data)\n",
    "    df = format_all(df)\n",
    "    path =  r'C:/Users/jakub/Documents/kursy/python/python_understat/understat_players_all.xlsx'\n",
    "    with pd.ExcelWriter(path) as writer:\n",
    "        df.to_excel(writer, sheet_name=\"all_strikers\")"
   ]
  },
  {
   "cell_type": "code",
   "execution_count": 15,
   "id": "f0b688a0",
   "metadata": {},
   "outputs": [],
   "source": [
    "main_all()"
   ]
  },
  {
   "cell_type": "code",
   "execution_count": null,
   "id": "47fc475f",
   "metadata": {},
   "outputs": [],
   "source": []
  }
 ],
 "metadata": {
  "kernelspec": {
   "display_name": "Python 3 (ipykernel)",
   "language": "python",
   "name": "python3"
  },
  "language_info": {
   "codemirror_mode": {
    "name": "ipython",
    "version": 3
   },
   "file_extension": ".py",
   "mimetype": "text/x-python",
   "name": "python",
   "nbconvert_exporter": "python",
   "pygments_lexer": "ipython3",
   "version": "3.11.5"
  }
 },
 "nbformat": 4,
 "nbformat_minor": 5
}
